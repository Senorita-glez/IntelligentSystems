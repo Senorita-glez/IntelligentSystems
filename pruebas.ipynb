{
 "cells": [
  {
   "cell_type": "code",
   "execution_count": 20,
   "metadata": {},
   "outputs": [
    {
     "name": "stdout",
     "output_type": "stream",
     "text": [
      "URL completa: https://open3dmodel.com/?token_id=Mi94YTZWaEJlSW5sVzZ3eXRrTlR4UT09&key=c1RRbDZJd0xFMzlZY3RNZWpYMnRyQT09\n",
      "Archivo descargado correctamente como data/9244_open3dmodel.zip\n"
     ]
    }
   ],
   "source": [
    "import requests\n",
    "from lxml import html\n",
    "from urllib.parse import urljoin, quote\n",
    "\n",
    "url = 'https://open3dmodel.com/3d-models/3d-character-human-body-3dsmax-model_20474.html'\n",
    "response = requests.get(url)\n",
    "tree = html.fromstring(response.content)\n",
    "\n",
    "enlace_pag_download = tree.xpath('/html/body/div[3]/article/div[3]/div[1]/div[3]/div[1]/div[2]/a/@href')\n",
    "\n",
    "if enlace_pag_download:\n",
    "    enlace_pag_download = enlace_pag_download[0]\n",
    "    response_download_page = requests.get(enlace_pag_download)\n",
    "    tree_download_page = html.fromstring(response_download_page.content)\n",
    "    enlace_descarga = tree_download_page.xpath('/html/body/div[3]/div[7]/div/div/div[6]/a/@href')\n",
    "    \n",
    "    if enlace_descarga:\n",
    "        enlace_descarga = enlace_descarga[0]\n",
    "\n",
    "        # Construir la URL completa\n",
    "        url_base = 'https://open3dmodel.com'\n",
    "        url_completa = urljoin(url_base, enlace_descarga)\n",
    "        print(f\"URL completa: {url_completa}\")\n",
    "        # Realizar la descarga y guardar el archivo\n",
    "        response = requests.get(url_completa)\n",
    "\n",
    "        # Verificar si la descarga fue exitosa (código de respuesta 200)\n",
    "        if response.status_code == 200:\n",
    "            # Extraer información del encabezado Content-Disposition si está presente\n",
    "            content_disposition = response.headers.get('Content-Disposition')\n",
    "            \n",
    "            if content_disposition and 'filename' in content_disposition:\n",
    "                # Obtener el nombre del archivo del encabezado Content-Disposition\n",
    "                filename = content_disposition.split('filename=')[1]\n",
    "                filename = filename.strip('\"')\n",
    "            else:\n",
    "                # Si no hay encabezado Content-Disposition, obtener el nombre del archivo de la URL\n",
    "                parsed_url = urlparse(url)\n",
    "                filename = parsed_url.path.split('/')[-1]\n",
    "            filename = 'data/' + filename\n",
    "            # Guardar el contenido de la respuesta en un archivo local con el nombre extraído\n",
    "            with open(filename, 'wb') as file:\n",
    "                file.write(response.content)\n",
    "            print(f'Archivo descargado correctamente como {filename}')\n",
    "        else:\n",
    "            print(f'Error al descargar el archivo. Código de estado: {response.status_code}')\n",
    "            print(response.text)\n",
    "    else:\n",
    "        print(\"No se pudo encontrar el enlace de descarga en la página de descarga.\")\n",
    "else:\n",
    "    print(\"No se pudo encontrar el enlace a la página de descarga.\")\n"
   ]
  },
  {
   "cell_type": "code",
   "execution_count": 1,
   "metadata": {},
   "outputs": [
    {
     "ename": "IndexError",
     "evalue": "list index out of range",
     "output_type": "error",
     "traceback": [
      "\u001b[1;31m---------------------------------------------------------------------------\u001b[0m",
      "\u001b[1;31mIndexError\u001b[0m                                Traceback (most recent call last)",
      "Cell \u001b[1;32mIn[1], line 20\u001b[0m\n\u001b[0;32m     17\u001b[0m root \u001b[38;5;241m=\u001b[39m html\u001b[38;5;241m.\u001b[39mfromstring(html_code)\n\u001b[0;32m     19\u001b[0m \u001b[38;5;66;03m# Utiliza el XPath para encontrar el formulario\u001b[39;00m\n\u001b[1;32m---> 20\u001b[0m formulario \u001b[38;5;241m=\u001b[39m \u001b[43mroot\u001b[49m\u001b[38;5;241;43m.\u001b[39;49m\u001b[43mxpath\u001b[49m\u001b[43m(\u001b[49m\u001b[38;5;124;43m'\u001b[39;49m\u001b[38;5;124;43m/html/body/div[1]/div[2]/form\u001b[39;49m\u001b[38;5;124;43m'\u001b[39;49m\u001b[43m)\u001b[49m\u001b[43m[\u001b[49m\u001b[38;5;241;43m0\u001b[39;49m\u001b[43m]\u001b[49m\n\u001b[0;32m     22\u001b[0m \u001b[38;5;66;03m# Obtiene los atributos del formulario\u001b[39;00m\n\u001b[0;32m     23\u001b[0m action \u001b[38;5;241m=\u001b[39m formulario\u001b[38;5;241m.\u001b[39mget(\u001b[38;5;124m'\u001b[39m\u001b[38;5;124maction\u001b[39m\u001b[38;5;124m'\u001b[39m)\n",
      "\u001b[1;31mIndexError\u001b[0m: list index out of range"
     ]
    }
   ],
   "source": [
    "from lxml import html\n",
    "\n",
    "# El código HTML proporcionado\n",
    "html_code = '''\n",
    "<form id=\"download-form\" action=\"https://drive.usercontent.google.com/download\" method=\"get\">\n",
    "    <input type=\"submit\" id=\"uc-download-link\" class=\"goog-inline-block jfk-button jfk-button-action\" value=\"Descargar de todos modos\">\n",
    "    <input type=\"hidden\" name=\"id\" value=\"0B9ThKBMztLLWdjZYZWp0T2xOWjg\">\n",
    "    <input type=\"hidden\" name=\"export\" value=\"download\">\n",
    "    <input type=\"hidden\" name=\"authuser\" value=\"0\">\n",
    "    <input type=\"hidden\" name=\"confirm\" value=\"t\">\n",
    "    <input type=\"hidden\" name=\"uuid\" value=\"f0d99a5e-7cd3-4418-ae08-b5013b1b5293\">\n",
    "    <input type=\"hidden\" name=\"at\" value=\"APZUnTXPKCLBTx3Zdk4JS2WVgTdn:1709740074765\">\n",
    "</form>\n",
    "'''\n",
    "\n",
    "# Parsea el código HTML\n",
    "root = html.fromstring(html_code)\n",
    "\n",
    "# Utiliza el XPath para encontrar el formulario\n",
    "formulario = root.xpath('/html/body/div[1]/div[2]/form')[0]\n",
    "\n",
    "# Obtiene los atributos del formulario\n",
    "action = formulario.get('action')\n",
    "method = formulario.get('method')\n",
    "\n",
    "# Imprime los atributos del formulario\n",
    "print(f\"Action: {action}\")\n",
    "print(f\"Method: {method}\")\n",
    "\n",
    "# Obtiene y imprime los atributos de los elementos de entrada dentro del formulario\n",
    "for input_element in formulario.xpath('.//input'):\n",
    "    nombre = input_element.get('name')\n",
    "    valor = input_element.get('value')\n",
    "    print(f\"{nombre}: {valor}\")\n"
   ]
  }
 ],
 "metadata": {
  "kernelspec": {
   "display_name": "Python 3",
   "language": "python",
   "name": "python3"
  },
  "language_info": {
   "codemirror_mode": {
    "name": "ipython",
    "version": 3
   },
   "file_extension": ".py",
   "mimetype": "text/x-python",
   "name": "python",
   "nbconvert_exporter": "python",
   "pygments_lexer": "ipython3",
   "version": "3.11.3"
  }
 },
 "nbformat": 4,
 "nbformat_minor": 2
}
