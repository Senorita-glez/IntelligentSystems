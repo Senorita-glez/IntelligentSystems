{
 "cells": [
  {
   "cell_type": "code",
   "execution_count": 4,
   "metadata": {},
   "outputs": [
    {
     "name": "stdout",
     "output_type": "stream",
     "text": [
      "Model ID: #20474 \n",
      "Formats: .3ds, .Max \n",
      "Textures: Yes \n",
      "Materials: Yes \n",
      "File Size: 7.7 MB \n",
      "Polygons: N/A \n",
      "Vertices: N/A \n",
      "Quality: Medium Poly \n",
      "Rigged: No \n",
      "Animated: No \n",
      "License: Non-commercial\n"
     ]
    }
   ],
   "source": [
    "\n",
    "import requests\n",
    "from lxml import html \n",
    "\n",
    "url = 'https://open3dmodel.com/3d-models/3d-character-human-body-3dsmax-model_20474.html'\n",
    "headers = {\n",
    "    'User-Agent': 'Mozilla/5.0 (Windows NT 10.0; Win64; x64) AppleWebKit/537.36 (KHTML, like Gecko) Chrome/58.0.3029.110 Safari/537.3'}\n",
    "\n",
    "try:\n",
    "    response = requests.get(url, timeout=6, headers=headers)\n",
    "    tree = html.fromstring(response.content)\n",
    "\n",
    "    elements = tree.xpath('/html/body/div[3]/div/div[5]/ul/li')\n",
    "\n",
    "\n",
    "    for element in elements:\n",
    "        text = element.text_content()\n",
    "        print(text)\n",
    "\n",
    "except requests.RequestException as e:\n",
    "    print(f\"Error en la solicitud: {e}\")\n"
   ]
  }
 ],
 "metadata": {
  "kernelspec": {
   "display_name": "Python 3",
   "language": "python",
   "name": "python3"
  },
  "language_info": {
   "codemirror_mode": {
    "name": "ipython",
    "version": 3
   },
   "file_extension": ".py",
   "mimetype": "text/x-python",
   "name": "python",
   "nbconvert_exporter": "python",
   "pygments_lexer": "ipython3",
   "version": "3.11.3"
  }
 },
 "nbformat": 4,
 "nbformat_minor": 2
}
