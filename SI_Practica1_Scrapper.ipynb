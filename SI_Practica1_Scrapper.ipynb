{
 "cells": [
  {
   "cell_type": "markdown",
   "metadata": {},
   "source": [
    "Preguntas\n",
    "* Distinguir entre materiales y texturas\n",
    "* Obtener la url desde el data\n",
    "* Software compatible ¿lista?\n",
    "* Tags ¿lista?"
   ]
  },
  {
   "cell_type": "code",
   "execution_count": 2,
   "metadata": {},
   "outputs": [
    {
     "name": "stdout",
     "output_type": "stream",
     "text": [
      "4\n",
      "Model ID: #20474 \n",
      "Formats: .3ds, .Max \n",
      "Textures: Yes \n",
      "Materials: Yes \n",
      "File Size: 7.7 MB \n",
      "Polygons: N/A \n",
      "Vertices: N/A \n",
      "Quality: Medium Poly \n",
      "Rigged: No \n",
      "Animated: No \n",
      "License: Non-commercial\n",
      "{'ID': '20474', 'Size': '7.7 MB'}\n"
     ]
    }
   ],
   "source": [
    "\n",
    "import requests\n",
    "from lxml import html\n",
    "import csv \n",
    "import re\n",
    "\n",
    "def getTextures(tree, xpathCode):\n",
    "    chain = tree.xpath(xpathCode)\n",
    "    txt_chain = chain[0].text_content()\n",
    "    num_elementos = len(txt_chain.split(','))\n",
    "    print(num_elementos)\n",
    "    \n",
    "def getImportant(tree, xpathCode):\n",
    "    dicc = {}\n",
    "    propierties = tree.xpath(xpathCode)\n",
    "    for element in propierties:\n",
    "        text = element.text_content()\n",
    "        print(text)\n",
    "        \n",
    "        '''Encontrar el ID'''\n",
    "        patronID = r'Model ID: #(\\d+)'\n",
    "        searchID = re.search(patronID, text)\n",
    "        if searchID:\n",
    "            dicc['ID'] = searchID.group(1)\n",
    "        \n",
    "        \n",
    "        '''Encontrar el tamaño'''\n",
    "        patronSize = r'File Size: ([\\d.]+ \\w+)'\n",
    "        searchSize = re.search(patronSize, text)\n",
    "        if searchSize:\n",
    "            dicc['Size'] = searchSize.group(1)\n",
    "        \n",
    "    print(dicc)\n",
    "'''with open(\"Modelos_3D.csv\", mode=\"w\", newline='') as archivo: \n",
    "            escritura = csv.writer(archivo)\n",
    "            escritura.writerow(Datos)'''\n",
    "\n",
    "Datos=['path', \n",
    "       'file_size', #\n",
    "       'id', #\n",
    "       'name', \n",
    "       'description',\n",
    "       'uri',\n",
    "       'aviable_formats',\n",
    "       'textures', \n",
    "       'materials', \n",
    "       'polygons', \n",
    "       'vertex',\n",
    "       'is_rigged', \n",
    "       'is_animated',\n",
    "       'license', \n",
    "       'quality',\n",
    "       'software',\n",
    "       'category',\n",
    "       'tags'\n",
    "       ]\n",
    "\n",
    "url = 'https://open3dmodel.com/3d-models/3d-character-human-body-3dsmax-model_20474.html'\n",
    "headers = {\n",
    "    'User-Agent': 'Mozilla/5.0 (Windows NT 10.0; Win64; x64) AppleWebKit/537.36 (KHTML, like Gecko) Chrome/58.0.3029.110 Safari/537.3'}\n",
    "\n",
    "try:\n",
    "    \n",
    "    response = requests.get(url, timeout=6, headers=headers)\n",
    "    tree = html.fromstring(response.content)\n",
    "\n",
    "    \n",
    "    textures = getTextures(tree, '/html/body/div[3]/article/div[3]/div[1]/div[3]/div[2]/div[5]/p[5]')\n",
    "    propierties = getImportant(tree, '/html/body/div[3]/div/div[5]/ul/li')\n",
    "    \n",
    "        \n",
    "\n",
    "except requests.RequestException as e:\n",
    "    print(f\"Error en la solicitud: {e}\")\n"
   ]
  }
 ],
 "metadata": {
  "kernelspec": {
   "display_name": "Python 3",
   "language": "python",
   "name": "python3"
  },
  "language_info": {
   "codemirror_mode": {
    "name": "ipython",
    "version": 3
   },
   "file_extension": ".py",
   "mimetype": "text/x-python",
   "name": "python",
   "nbconvert_exporter": "python",
   "pygments_lexer": "ipython3",
   "version": "3.11.3"
  }
 },
 "nbformat": 4,
 "nbformat_minor": 2
}
